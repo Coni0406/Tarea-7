{
 "cells": [
  {
   "cell_type": "code",
   "execution_count": 1,
   "id": "4e2f9af3-a610-46c3-a8e3-6b992518ac0f",
   "metadata": {},
   "outputs": [
    {
     "data": {
      "text/latex": [
       "$\\displaystyle 1.5 x^{3} - 0.5 x - 5$"
      ],
      "text/plain": [
       "1.5*x**3 - 0.5*x - 5"
      ]
     },
     "metadata": {},
     "output_type": "display_data"
    },
    {
     "data": {
      "text/latex": [
       "$\\displaystyle 4.0 x - 1.5 \\left(x - 1\\right)^{3} + 4.5 \\left(x - 1\\right)^{2} - 8.0$"
      ],
      "text/plain": [
       "4.0*x - 1.5*(x - 1)**3 + 4.5*(x - 1)**2 - 8.0"
      ]
     },
     "metadata": {},
     "output_type": "display_data"
    },
    {
     "name": "stdout",
     "output_type": "stream",
     "text": [
      "______\n"
     ]
    },
    {
     "data": {
      "text/latex": [
       "$\\displaystyle 1.5 x^{3} - 0.5 x - 5$"
      ],
      "text/plain": [
       "1.5*x**3 - 0.5*x - 5"
      ]
     },
     "metadata": {},
     "output_type": "display_data"
    },
    {
     "data": {
      "text/latex": [
       "$\\displaystyle - 1.5 x^{3} + 9.0 x^{2} - 9.5 x - 2.0$"
      ],
      "text/plain": [
       "-1.5*x**3 + 9.0*x**2 - 9.5*x - 2.0"
      ]
     },
     "metadata": {},
     "output_type": "display_data"
    }
   ],
   "source": [
    "import sympy as sym\n",
    "from IPython.display import display\n",
    "\n",
    "def cubic_spline(xs: list[float], ys: list[float]) -> list[sym.Symbol]:\n",
    "\n",
    "    # Ordenamos los puntos por la coordenada x\n",
    "    puntos = sorted(zip(xs, ys), key=lambda x: x[0])  \n",
    "\n",
    "    xs = [x for x, _ in puntos]\n",
    "    ys = [y for _, y in puntos]\n",
    "\n",
    "    n = len(puntos) - 1  # número de splines\n",
    "\n",
    "    # Distancias entre los puntos consecutivos\n",
    "    h = [xs[i + 1] - xs[i] for i in range(n)]  \n",
    "\n",
    "    # Calcular el vector alpha\n",
    "    alpha = [0]  # valor inicial en alpha[0], no se utiliza\n",
    "    for i in range(1, n):\n",
    "        alpha.append(3 / h[i] * (ys[i + 1] - ys[i]) - 3 / h[i - 1] * (ys[i] - ys[i - 1]))\n",
    "\n",
    "    # Inicializar l, u, z\n",
    "    l = [1]  # Primer valor de l\n",
    "    u = [0]  # Primer valor de u\n",
    "    z = [0]  # Primer valor de z\n",
    "\n",
    "    # Resolver el sistema tridiagonal\n",
    "    for i in range(1, n):\n",
    "        l.append(2 * (xs[i + 1] - xs[i - 1]) - h[i - 1] * u[i - 1])\n",
    "        u.append(h[i] / l[i])\n",
    "        z.append((alpha[i] - h[i - 1] * z[i - 1]) / l[i])\n",
    "\n",
    "    l.append(1)\n",
    "    z.append(0)\n",
    "\n",
    "    # Inicializar los coeficientes del spline\n",
    "    c = [0] * (n + 1)\n",
    "    b = [0] * n\n",
    "    d = [0] * n\n",
    "    a = [0] * n\n",
    "\n",
    "    # Resolver para los coeficientes c, b, d, y a\n",
    "    for j in range(n - 1, -1, -1):\n",
    "        c[j] = z[j] - u[j] * c[j + 1]\n",
    "        b[j] = (ys[j + 1] - ys[j]) / h[j] - h[j] * (c[j + 1] + 2 * c[j]) / 3\n",
    "        d[j] = (c[j + 1] - c[j]) / (3 * h[j])\n",
    "        a[j] = ys[j]\n",
    "\n",
    "    # Variable simbólica x para la representación del spline\n",
    "    x = sym.Symbol(\"x\")\n",
    "    splines = []\n",
    "\n",
    "    # Construir las expresiones simbólicas de los splines\n",
    "    for j in range(n):\n",
    "        S = a[j] + b[j] * (x - xs[j]) + c[j] * (x - xs[j])**2 + d[j] * (x - xs[j])**3\n",
    "        splines.append(S)\n",
    "\n",
    "    return splines\n",
    "\n",
    "xs = [0, 1, 2]\n",
    "ys = [-5, -4, 3]\n",
    "\n",
    "splines = cubic_spline(xs=xs, ys=ys)\n",
    "_ = [display(s) for s in splines]\n",
    "print(\"______\")\n",
    "_ = [display(s.expand()) for s in splines]"
   ]
  },
  {
   "cell_type": "code",
   "execution_count": 4,
   "id": "8eb3697b-3cae-43f7-b772-46fadfd7dbea",
   "metadata": {},
   "outputs": [
    {
     "data": {
      "text/latex": [
       "$\\displaystyle - 2.0 x^{3} + 3.0 x^{2}$"
      ],
      "text/plain": [
       "-2.0*x**3 + 3.0*x**2"
      ]
     },
     "metadata": {},
     "output_type": "display_data"
    },
    {
     "data": {
      "text/latex": [
       "$\\displaystyle 2.22044604925031 \\cdot 10^{-16} x + 2.0 \\left(x - 1\\right)^{3} - 3.0 \\left(x - 1\\right)^{2} + 1.0$"
      ],
      "text/plain": [
       "2.22044604925031e-16*x + 2.0*(x - 1)**3 - 3.0*(x - 1)**2 + 1.0"
      ]
     },
     "metadata": {},
     "output_type": "display_data"
    }
   ],
   "source": [
    "import sympy as sym\n",
    "from IPython.display import display\n",
    "\n",
    "def cubic_spline_clamped(\n",
    "    xs: list[float], ys: list[float], d0: float, dn: float\n",
    ") -> list[sym.Symbol]:\n",
    "\n",
    "    # Ordenamos los puntos por la coordenada x\n",
    "    puntos = sorted(zip(xs, ys), key=lambda x: x[0])  \n",
    "    xs = [x for x, _ in puntos]\n",
    "    ys = [y for _, y in puntos]\n",
    "\n",
    "    n = len(puntos) - 1  # número de splines\n",
    "    h = [xs[i + 1] - xs[i] for i in range(n)]  # distancias entre los puntos consecutivos\n",
    "\n",
    "    # Precalculamos el vector alpha\n",
    "    alpha = [0] * (n + 1)\n",
    "    alpha[0] = 3 / h[0] * (ys[1] - ys[0]) - 3 * d0\n",
    "    alpha[n] = 3 * dn - 3 / h[n - 1] * (ys[n] - ys[n - 1])\n",
    "\n",
    "    for i in range(1, n):\n",
    "        alpha[i] = 3 / h[i] * (ys[i + 1] - ys[i]) - 3 / h[i - 1] * (ys[i] - ys[i - 1])\n",
    "\n",
    "    # Inicializamos los vectores l, u, z\n",
    "    l = [2 * h[0]]\n",
    "    u = [0.5]\n",
    "    z = [alpha[0] / l[0]]\n",
    "\n",
    "    for i in range(1, n):\n",
    "        l.append(2 * (xs[i + 1] - xs[i - 1]) - h[i - 1] * u[i - 1])\n",
    "        u.append(h[i] / l[i])\n",
    "        z.append((alpha[i] - h[i - 1] * z[i - 1]) / l[i])\n",
    "\n",
    "    l.append(h[n - 1] * (2 - u[n - 1]))\n",
    "    z.append((alpha[n] - h[n - 1] * z[n - 1]) / l[n])\n",
    "\n",
    "    # Inicializamos el vector c\n",
    "    c = [0] * (n + 1)\n",
    "    c[-1] = z[-1]  # La última entrada de c es z[n]\n",
    "\n",
    "    # Coeficientes a, b, c, d para los splines\n",
    "    b = [0] * n\n",
    "    d = [0] * n\n",
    "    a = [0] * n\n",
    "\n",
    "    # Calculamos los coeficientes para cada spline\n",
    "    for j in range(n - 1, -1, -1):\n",
    "        c[j] = z[j] - u[j] * c[j + 1]\n",
    "        b[j] = (ys[j + 1] - ys[j]) / h[j] - h[j] * (c[j + 1] + 2 * c[j]) / 3\n",
    "        d[j] = (c[j + 1] - c[j]) / (3 * h[j])\n",
    "        a[j] = ys[j]\n",
    "\n",
    "    # Variable simbólica x para la expresión de los splines\n",
    "    x = sym.Symbol(\"x\")\n",
    "    splines = []\n",
    "\n",
    "    # Construimos las expresiones simbólicas para cada spline\n",
    "    for j in range(n):\n",
    "        S = a[j] + b[j] * (x - xs[j]) + c[j] * (x - xs[j]) ** 2 + d[j] * (x - xs[j]) ** 3\n",
    "        splines.append(S)\n",
    "\n",
    "    return splines\n",
    "\n",
    "# Ejemplo de uso:\n",
    "xs = [0, 1, 2]\n",
    "ys = [0, 1, 0]\n",
    "d0 = 0  # Derivada en el primer punto\n",
    "dn = 0  # Derivada en el último punto\n",
    "\n",
    "# Llamada a la función\n",
    "splines = cubic_spline_clamped(xs, ys, d0, dn)\n",
    "\n",
    "# Mostrar los resultados\n",
    "for spline in splines:\n",
    "    display(spline)"
   ]
  },
  {
   "cell_type": "code",
   "execution_count": 5,
   "id": "0e911bd8-0912-4053-a9b1-c0b6655bb748",
   "metadata": {},
   "outputs": [
    {
     "data": {
      "text/latex": [
       "$\\displaystyle 0.25 \\left(x - 1\\right)^{3} + 0.75 \\left(x - 1\\right)^{2} + 2$"
      ],
      "text/plain": [
       "0.25*(x - 1)**3 + 0.75*(x - 1)**2 + 2"
      ]
     },
     "metadata": {},
     "output_type": "display_data"
    },
    {
     "data": {
      "text/latex": [
       "$\\displaystyle 2.25 x - 1.75 \\left(x - 2\\right)^{3} + 1.5 \\left(x - 2\\right)^{2} - 1.5$"
      ],
      "text/plain": [
       "2.25*x - 1.75*(x - 2)**3 + 1.5*(x - 2)**2 - 1.5"
      ]
     },
     "metadata": {},
     "output_type": "display_data"
    }
   ],
   "source": [
    "# Definir los puntos y las derivadas en los extremos\n",
    "xs = [1, 2, 3]\n",
    "ys = [2, 3, 5]\n",
    "d0 = 0  # Derivada en el primer punto (puedes ajustarlo si es necesario)\n",
    "dn = 0  # Derivada en el último punto (puedes ajustarlo si es necesario)\n",
    "\n",
    "# Llamada a la función cubic_spline_clamped\n",
    "splines = cubic_spline_clamped(xs, ys, d0, dn)\n",
    "\n",
    "# Mostrar los resultados\n",
    "for spline in splines:\n",
    "    display(spline)"
   ]
  },
  {
   "cell_type": "code",
   "execution_count": null,
   "id": "e48988d0-557a-48a7-9761-e0580a5d5ac7",
   "metadata": {},
   "outputs": [],
   "source": []
  }
 ],
 "metadata": {
  "kernelspec": {
   "display_name": "Python 3 (ipykernel)",
   "language": "python",
   "name": "python3"
  },
  "language_info": {
   "codemirror_mode": {
    "name": "ipython",
    "version": 3
   },
   "file_extension": ".py",
   "mimetype": "text/x-python",
   "name": "python",
   "nbconvert_exporter": "python",
   "pygments_lexer": "ipython3",
   "version": "3.11.7"
  }
 },
 "nbformat": 4,
 "nbformat_minor": 5
}
